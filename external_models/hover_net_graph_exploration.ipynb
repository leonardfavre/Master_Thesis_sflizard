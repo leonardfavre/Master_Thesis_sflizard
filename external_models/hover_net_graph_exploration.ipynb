{
 "cells": [
  {
   "cell_type": "code",
   "execution_count": 2,
   "metadata": {},
   "outputs": [],
   "source": [
    "import scipy.io as sio\n",
    "from pathlib import Path\n"
   ]
  },
  {
   "cell_type": "code",
   "execution_count": 7,
   "metadata": {},
   "outputs": [
    {
     "name": "stdout",
     "output_type": "stream",
     "text": [
      "dict_keys(['__header__', '__version__', '__globals__', 'inst_map', 'type_map', 'inst_type', 'inst_centroid'])\n"
     ]
    }
   ],
   "source": [
    "data_path = \"../data/CoNSeP/Train/Labels/\"\n",
    "file_list = list(Path(data_path).glob(\"*.mat\"))\n",
    "\n",
    "true_data = []\n",
    "\n",
    "for file_path in file_list:\n",
    "    base_name = file_path.stem\n",
    "    mat = sio.loadmat(file_path)\n",
    "    true_data.append(mat)\n",
    "print(true_data[0].keys())\n"
   ]
  },
  {
   "cell_type": "code",
   "execution_count": 20,
   "metadata": {},
   "outputs": [],
   "source": [
    "d = true_data[0]\n",
    "for p in d[\"inst_centroid\"]:\n",
    "    if d[\"type_map\"][int(p[1])][int(p[0])] == 0:\n",
    "        print(d[\"type_map\"][int(p[1])][int(p[0])])"
   ]
  },
  {
   "cell_type": "code",
   "execution_count": 4,
   "metadata": {},
   "outputs": [
    {
     "name": "stdout",
     "output_type": "stream",
     "text": [
      "dict_keys(['__header__', '__version__', '__globals__', 'inst_map', 'inst_uid', 'inst_type', 'inst_centroid'])\n",
      "dict_keys(['__header__', '__version__', '__globals__', 'inst_map', 'inst_uid', 'inst_type', 'inst_centroid'])\n",
      "dict_keys(['__header__', '__version__', '__globals__', 'inst_map', 'inst_uid', 'inst_type', 'inst_centroid'])\n",
      "dict_keys(['__header__', '__version__', '__globals__', 'inst_map', 'inst_uid', 'inst_type', 'inst_centroid'])\n",
      "dict_keys(['__header__', '__version__', '__globals__', 'inst_map', 'inst_uid', 'inst_type', 'inst_centroid'])\n",
      "dict_keys(['__header__', '__version__', '__globals__', 'inst_map', 'inst_uid', 'inst_type', 'inst_centroid'])\n",
      "dict_keys(['__header__', '__version__', '__globals__', 'inst_map', 'inst_uid', 'inst_type', 'inst_centroid'])\n",
      "dict_keys(['__header__', '__version__', '__globals__', 'inst_map', 'inst_uid', 'inst_type', 'inst_centroid'])\n",
      "dict_keys(['__header__', '__version__', '__globals__', 'inst_map', 'inst_uid', 'inst_type', 'inst_centroid'])\n",
      "dict_keys(['__header__', '__version__', '__globals__', 'inst_map', 'inst_uid', 'inst_type', 'inst_centroid'])\n",
      "dict_keys(['__header__', '__version__', '__globals__', 'inst_map', 'inst_uid', 'inst_type', 'inst_centroid'])\n",
      "dict_keys(['__header__', '__version__', '__globals__', 'inst_map', 'inst_uid', 'inst_type', 'inst_centroid'])\n",
      "dict_keys(['__header__', '__version__', '__globals__', 'inst_map', 'inst_uid', 'inst_type', 'inst_centroid'])\n",
      "dict_keys(['__header__', '__version__', '__globals__', 'inst_map', 'inst_uid', 'inst_type', 'inst_centroid'])\n",
      "dict_keys(['__header__', '__version__', '__globals__', 'inst_map', 'inst_uid', 'inst_type', 'inst_centroid'])\n",
      "dict_keys(['__header__', '__version__', '__globals__', 'inst_map', 'inst_uid', 'inst_type', 'inst_centroid'])\n",
      "dict_keys(['__header__', '__version__', '__globals__', 'inst_map', 'inst_uid', 'inst_type', 'inst_centroid'])\n",
      "dict_keys(['__header__', '__version__', '__globals__', 'inst_map', 'inst_uid', 'inst_type', 'inst_centroid'])\n",
      "dict_keys(['__header__', '__version__', '__globals__', 'inst_map', 'inst_uid', 'inst_type', 'inst_centroid'])\n",
      "dict_keys(['__header__', '__version__', '__globals__', 'inst_map', 'inst_uid', 'inst_type', 'inst_centroid'])\n",
      "dict_keys(['__header__', '__version__', '__globals__', 'inst_map', 'inst_uid', 'inst_type', 'inst_centroid'])\n",
      "dict_keys(['__header__', '__version__', '__globals__', 'inst_map', 'inst_uid', 'inst_type', 'inst_centroid'])\n",
      "dict_keys(['__header__', '__version__', '__globals__', 'inst_map', 'inst_uid', 'inst_type', 'inst_centroid'])\n",
      "dict_keys(['__header__', '__version__', '__globals__', 'inst_map', 'inst_uid', 'inst_type', 'inst_centroid'])\n",
      "dict_keys(['__header__', '__version__', '__globals__', 'inst_map', 'inst_uid', 'inst_type', 'inst_centroid'])\n",
      "dict_keys(['__header__', '__version__', '__globals__', 'inst_map', 'inst_uid', 'inst_type', 'inst_centroid'])\n",
      "dict_keys(['__header__', '__version__', '__globals__', 'inst_map', 'inst_uid', 'inst_type', 'inst_centroid'])\n"
     ]
    }
   ],
   "source": [
    "data_path = \"hover_net/test_out/mat/\"\n",
    "file_list = list(Path(data_path).glob(\"*.mat\"))\n",
    "\n",
    "pred_data = []\n",
    "\n",
    "for file_path in file_list:\n",
    "    base_name = file_path.stem\n",
    "    mat = sio.loadmat(file_path)\n",
    "    pred_data.append(mat)\n",
    "    print(mat.keys())\n"
   ]
  },
  {
   "cell_type": "code",
   "execution_count": null,
   "metadata": {},
   "outputs": [],
   "source": []
  }
 ],
 "metadata": {
  "kernelspec": {
   "display_name": "Python 3.10.6 64-bit",
   "language": "python",
   "name": "python3"
  },
  "language_info": {
   "codemirror_mode": {
    "name": "ipython",
    "version": 3
   },
   "file_extension": ".py",
   "mimetype": "text/x-python",
   "name": "python",
   "nbconvert_exporter": "python",
   "pygments_lexer": "ipython3",
   "version": "3.10.6"
  },
  "orig_nbformat": 4,
  "vscode": {
   "interpreter": {
    "hash": "916dbcbb3f70747c44a77c7bcd40155683ae19c65e1c03b4aa3499c5328201f1"
   }
  }
 },
 "nbformat": 4,
 "nbformat_minor": 2
}
