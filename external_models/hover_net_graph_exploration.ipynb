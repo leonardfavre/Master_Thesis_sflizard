{
 "cells": [
  {
   "cell_type": "code",
   "execution_count": 1,
   "metadata": {},
   "outputs": [],
   "source": [
    "import scipy.io as sio\n",
    "from pathlib import Path\n"
   ]
  },
  {
   "cell_type": "code",
   "execution_count": 7,
   "metadata": {},
   "outputs": [
    {
     "name": "stdout",
     "output_type": "stream",
     "text": [
      "dict_keys(['__header__', '__version__', '__globals__', 'inst_map', 'type_map', 'inst_type', 'inst_centroid'])\n"
     ]
    }
   ],
   "source": [
    "data_path = \"../data/CoNSeP/Train/Labels/\"\n",
    "file_list = list(Path(data_path).glob(\"*.mat\"))\n",
    "\n",
    "true_data = []\n",
    "\n",
    "for file_path in file_list:\n",
    "    base_name = file_path.stem\n",
    "    mat = sio.loadmat(file_path)\n",
    "    true_data.append(mat)\n",
    "print(true_data[0].keys())\n"
   ]
  },
  {
   "cell_type": "code",
   "execution_count": 20,
   "metadata": {},
   "outputs": [],
   "source": [
    "d = true_data[0]\n",
    "for p in d[\"inst_centroid\"]:\n",
    "    if d[\"type_map\"][int(p[1])][int(p[0])] == 0:\n",
    "        print(d[\"type_map\"][int(p[1])][int(p[0])])"
   ]
  },
  {
   "cell_type": "code",
   "execution_count": 6,
   "metadata": {},
   "outputs": [
    {
     "name": "stdout",
     "output_type": "stream",
     "text": [
      "dict_keys(['__header__', '__version__', '__globals__', 'inst_map', 'inst_uid', 'inst_type', 'inst_centroid'])\n",
      "(500, 500)\n",
      "(416, 1)\n",
      "(416, 1)\n",
      "(416, 2)\n",
      "<class 'numpy.int32'>\n",
      "<class 'numpy.int32'>\n",
      "<class 'numpy.int64'>\n",
      "<class 'numpy.float64'>\n",
      "dict_keys(['__header__', '__version__', '__globals__', 'inst_map', 'inst_uid', 'inst_type', 'inst_centroid'])\n",
      "(500, 500)\n",
      "(67, 1)\n",
      "(67, 1)\n",
      "(67, 2)\n",
      "<class 'numpy.int32'>\n",
      "<class 'numpy.int32'>\n",
      "<class 'numpy.int64'>\n",
      "<class 'numpy.float64'>\n",
      "dict_keys(['__header__', '__version__', '__globals__', 'inst_map', 'inst_uid', 'inst_type', 'inst_centroid'])\n",
      "(522, 775)\n",
      "(761, 1)\n",
      "(761, 1)\n",
      "(761, 2)\n",
      "<class 'numpy.int32'>\n",
      "<class 'numpy.int32'>\n",
      "<class 'numpy.int64'>\n",
      "<class 'numpy.float64'>\n",
      "dict_keys(['__header__', '__version__', '__globals__', 'inst_map', 'inst_uid', 'inst_type', 'inst_centroid'])\n",
      "(500, 500)\n",
      "(307, 1)\n",
      "(307, 1)\n",
      "(307, 2)\n",
      "<class 'numpy.int32'>\n",
      "<class 'numpy.int32'>\n",
      "<class 'numpy.int64'>\n",
      "<class 'numpy.float64'>\n",
      "dict_keys(['__header__', '__version__', '__globals__', 'inst_map', 'inst_uid', 'inst_type', 'inst_centroid'])\n",
      "(522, 775)\n",
      "(383, 1)\n",
      "(383, 1)\n",
      "(383, 2)\n",
      "<class 'numpy.int32'>\n",
      "<class 'numpy.int32'>\n",
      "<class 'numpy.int64'>\n",
      "<class 'numpy.float64'>\n",
      "dict_keys(['__header__', '__version__', '__globals__', 'inst_map', 'inst_uid', 'inst_type', 'inst_centroid'])\n",
      "(500, 500)\n",
      "(51, 1)\n",
      "(51, 1)\n",
      "(51, 2)\n",
      "<class 'numpy.int32'>\n",
      "<class 'numpy.int32'>\n",
      "<class 'numpy.int64'>\n",
      "<class 'numpy.float64'>\n",
      "dict_keys(['__header__', '__version__', '__globals__', 'inst_map', 'inst_uid', 'inst_type', 'inst_centroid'])\n",
      "(522, 775)\n",
      "(478, 1)\n",
      "(478, 1)\n",
      "(478, 2)\n",
      "<class 'numpy.int32'>\n",
      "<class 'numpy.int32'>\n",
      "<class 'numpy.int64'>\n",
      "<class 'numpy.float64'>\n"
     ]
    },
    {
     "ename": "KeyboardInterrupt",
     "evalue": "",
     "output_type": "error",
     "traceback": [
      "\u001b[0;31m---------------------------------------------------------------------------\u001b[0m",
      "\u001b[0;31mKeyboardInterrupt\u001b[0m                         Traceback (most recent call last)",
      "Cell \u001b[0;32mIn [6], line 8\u001b[0m\n\u001b[1;32m      6\u001b[0m \u001b[38;5;28;01mfor\u001b[39;00m file_path \u001b[38;5;129;01min\u001b[39;00m file_list:\n\u001b[1;32m      7\u001b[0m     base_name \u001b[38;5;241m=\u001b[39m file_path\u001b[38;5;241m.\u001b[39mstem\n\u001b[0;32m----> 8\u001b[0m     mat \u001b[38;5;241m=\u001b[39m sio\u001b[38;5;241m.\u001b[39mloadmat(file_path)\n\u001b[1;32m      9\u001b[0m     pred_data\u001b[38;5;241m.\u001b[39mappend(mat)\n\u001b[1;32m     10\u001b[0m     \u001b[38;5;28mprint\u001b[39m(mat\u001b[38;5;241m.\u001b[39mkeys())\n",
      "File \u001b[0;32m/usr/lib/python3/dist-packages/scipy/io/matlab/_mio.py:226\u001b[0m, in \u001b[0;36mloadmat\u001b[0;34m(file_name, mdict, appendmat, **kwargs)\u001b[0m\n\u001b[1;32m    224\u001b[0m \u001b[39mwith\u001b[39;00m _open_file_context(file_name, appendmat) \u001b[39mas\u001b[39;00m f:\n\u001b[1;32m    225\u001b[0m     MR, _ \u001b[39m=\u001b[39m mat_reader_factory(f, \u001b[39m*\u001b[39m\u001b[39m*\u001b[39mkwargs)\n\u001b[0;32m--> 226\u001b[0m     matfile_dict \u001b[39m=\u001b[39m MR\u001b[39m.\u001b[39;49mget_variables(variable_names)\n\u001b[1;32m    228\u001b[0m \u001b[39mif\u001b[39;00m mdict \u001b[39mis\u001b[39;00m \u001b[39mnot\u001b[39;00m \u001b[39mNone\u001b[39;00m:\n\u001b[1;32m    229\u001b[0m     mdict\u001b[39m.\u001b[39mupdate(matfile_dict)\n",
      "File \u001b[0;32m/usr/lib/python3/dist-packages/scipy/io/matlab/_mio5.py:332\u001b[0m, in \u001b[0;36mMatFile5Reader.get_variables\u001b[0;34m(self, variable_names)\u001b[0m\n\u001b[1;32m    330\u001b[0m     \u001b[39mcontinue\u001b[39;00m\n\u001b[1;32m    331\u001b[0m \u001b[39mtry\u001b[39;00m:\n\u001b[0;32m--> 332\u001b[0m     res \u001b[39m=\u001b[39m \u001b[39mself\u001b[39;49m\u001b[39m.\u001b[39;49mread_var_array(hdr, process)\n\u001b[1;32m    333\u001b[0m \u001b[39mexcept\u001b[39;00m MatReadError \u001b[39mas\u001b[39;00m err:\n\u001b[1;32m    334\u001b[0m     warnings\u001b[39m.\u001b[39mwarn(\n\u001b[1;32m    335\u001b[0m         \u001b[39m'\u001b[39m\u001b[39mUnreadable variable \u001b[39m\u001b[39m\"\u001b[39m\u001b[39m%s\u001b[39;00m\u001b[39m\"\u001b[39m\u001b[39m, because \u001b[39m\u001b[39m\"\u001b[39m\u001b[39m%s\u001b[39;00m\u001b[39m\"\u001b[39m\u001b[39m'\u001b[39m \u001b[39m%\u001b[39m\n\u001b[1;32m    336\u001b[0m         (name, err),\n\u001b[1;32m    337\u001b[0m         \u001b[39mWarning\u001b[39;00m, stacklevel\u001b[39m=\u001b[39m\u001b[39m2\u001b[39m)\n",
      "File \u001b[0;32m/usr/lib/python3/dist-packages/scipy/io/matlab/_mio5.py:292\u001b[0m, in \u001b[0;36mMatFile5Reader.read_var_array\u001b[0;34m(self, header, process)\u001b[0m\n\u001b[1;32m    275\u001b[0m \u001b[39mdef\u001b[39;00m \u001b[39mread_var_array\u001b[39m(\u001b[39mself\u001b[39m, header, process\u001b[39m=\u001b[39m\u001b[39mTrue\u001b[39;00m):\n\u001b[1;32m    276\u001b[0m     \u001b[39m''' Read array, given `header`\u001b[39;00m\n\u001b[1;32m    277\u001b[0m \n\u001b[1;32m    278\u001b[0m \u001b[39m    Parameters\u001b[39;00m\n\u001b[0;32m   (...)\u001b[0m\n\u001b[1;32m    290\u001b[0m \u001b[39m       `process`.\u001b[39;00m\n\u001b[1;32m    291\u001b[0m \u001b[39m    '''\u001b[39;00m\n\u001b[0;32m--> 292\u001b[0m     \u001b[39mreturn\u001b[39;00m \u001b[39mself\u001b[39;49m\u001b[39m.\u001b[39;49m_matrix_reader\u001b[39m.\u001b[39;49marray_from_header(header, process)\n",
      "\u001b[0;31mKeyboardInterrupt\u001b[0m: "
     ]
    }
   ],
   "source": [
    "data_path = \"hover_net/Lizard_test_out/mat/\"\n",
    "file_list = list(Path(data_path).glob(\"*.mat\"))\n",
    "\n",
    "pred_data = []\n",
    "\n",
    "for file_path in file_list:\n",
    "    base_name = file_path.stem\n",
    "    mat = sio.loadmat(file_path)\n",
    "    pred_data.append(mat)\n",
    "    print(mat.keys())\n",
    "    print(mat[\"inst_map\"].shape)\n",
    "    print(mat[\"inst_uid\"].shape)\n",
    "    print(mat[\"inst_type\"].shape)\n",
    "    print(mat[\"inst_centroid\"].shape)\n",
    "    print(type(mat[\"inst_map\"][0][0]))\n",
    "    print(type(mat[\"inst_uid\"][0][0]))\n",
    "    print(type(mat[\"inst_type\"][0][0]))\n",
    "    print(type(mat[\"inst_centroid\"][0][0]))\n"
   ]
  },
  {
   "cell_type": "code",
   "execution_count": null,
   "metadata": {},
   "outputs": [],
   "source": []
  }
 ],
 "metadata": {
  "kernelspec": {
   "display_name": "Python 3.10.6 64-bit",
   "language": "python",
   "name": "python3"
  },
  "language_info": {
   "codemirror_mode": {
    "name": "ipython",
    "version": 3
   },
   "file_extension": ".py",
   "mimetype": "text/x-python",
   "name": "python",
   "nbconvert_exporter": "python",
   "pygments_lexer": "ipython3",
   "version": "3.10.6"
  },
  "orig_nbformat": 4,
  "vscode": {
   "interpreter": {
    "hash": "916dbcbb3f70747c44a77c7bcd40155683ae19c65e1c03b4aa3499c5328201f1"
   }
  }
 },
 "nbformat": 4,
 "nbformat_minor": 2
}
