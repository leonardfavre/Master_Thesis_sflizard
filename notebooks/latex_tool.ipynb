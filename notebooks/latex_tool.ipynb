{
 "cells": [
  {
   "cell_type": "markdown",
   "metadata": {},
   "source": [
    "# Latex Tools\n",
    "\n",
    "Helper to easily generate latex report part"
   ]
  },
  {
   "cell_type": "markdown",
   "metadata": {},
   "source": [
    "## Table comparison maker"
   ]
  },
  {
   "cell_type": "code",
   "execution_count": 11,
   "metadata": {},
   "outputs": [
    {
     "name": "stdout",
     "output_type": "stream",
     "text": [
      "\\hline\n",
      "Metric & Stardist & HoverNet & Difference \\\\\n",
      "\\hline\n",
      "F1 d & 0.84435 & 0.77918 & \\color{ForestGreen}+0.06517\\\\\n",
      "Acc type & 0.79569 & 0.88177 & \\color{BrickRed}-0.08608\\\\\n",
      "F1 Neutrophil & 0.11009 & 0.1874 & \\color{BrickRed}-0.07731\\\\\n",
      "F1 Epithelial & 0.66009 & 0.7624 & \\color{BrickRed}-0.10231\\\\\n",
      "F1 Lymphocyte & 0.63634 & 0.5424 & \\color{ForestGreen}+0.09394\\\\\n",
      "F1 Plasma & 0.33518 & 0.46905 & \\color{BrickRed}-0.13387\\\\\n",
      "F1 Eosinophil & 0.34509 & 0.33756 & \\color{ForestGreen}+0.00753\\\\\n",
      "F1 Connective tissue & 0.49849 & 0.54713 & \\color{BrickRed}-0.04864\\\\\n",
      "\\hline\n"
     ]
    }
   ],
   "source": [
    "title = [\"Metric\", \"Stardist\", \"HoverNet\", \"Difference\"]\n",
    "metrics = [\"F1 d\", \"Acc type\", \"F1 Neutrophil\", \"F1 Epithelial\", \"F1 Lymphocyte\", \"F1 Plasma\", \"F1 Eosinophil\", \"F1 Connective tissue\"]\n",
    "data_1 = [0.84435, 0.79569, 0.11009, 0.66009, 0.63634, 0.33518, 0.34509, 0.49849]\n",
    "data_2 = [0.77918, 0.88177, 0.18740, 0.76240, 0.54240, 0.46905, 0.33756, 0.54713]\n",
    "\n",
    "\n",
    "print(\"\\\\hline\")\n",
    "print(\" & \".join(title) + \" \\\\\\\\\")\n",
    "print(\"\\\\hline\")\n",
    "for idx, metric in enumerate(metrics):\n",
    "    color = \"\\\\color{ForestGreen}+\" if data_1[idx] > data_2[idx] else \"\\\\color{BrickRed}\" if data_1[idx] < data_2[idx] else \"\"\n",
    "    print(f\"{metric} & {data_1[idx]} & {data_2[idx]} & {color}{(data_1[idx] - data_2[idx]):.5f}\\\\\\\\\")\n",
    "print(\"\\\\hline\")"
   ]
  },
  {
   "cell_type": "code",
   "execution_count": 3,
   "metadata": {},
   "outputs": [
    {
     "name": "stdout",
     "output_type": "stream",
     "text": [
      "\\hline\n",
      "Model & Num. layers & hidden size & ll & 4ll & Difference \\\\\n",
      "\\hline\n",
      "GAT 2 & 2 & 256 & 0.8734 & 0.8527 & \\color{ForestGreen}+0.02070\\\\\n",
      "GAT 2 & 4 & 256 & 0.8602 & 0.8518 & \\color{ForestGreen}+0.00840\\\\\n",
      "GAT 4 & 2 & 256 & 0.8798 & 0.8594 & \\color{ForestGreen}+0.02040\\\\\n",
      "GAT 4 & 4 & 256 & 0.8785 & 0.87 & \\color{ForestGreen}+0.00850\\\\\n",
      "GAT 8 & 2 & 256 & 0.8784 & 0.8711 & \\color{ForestGreen}+0.00730\\\\\n",
      "GAT 8 & 4 & 256 & 0.8786 & 0.79 & \\color{ForestGreen}+0.08860\\\\\n",
      "SAGE & 4 & 256 & 0.8903 & 0.8773 & \\color{ForestGreen}+0.01300\\\\\n",
      "SAGE & 8 & 256 & 0.8874 & 0.8806 & \\color{ForestGreen}+0.00680\\\\\n",
      "\\hline\n",
      "\\hline\n",
      "Model & Num. layers & hidden size & ll+c & 4ll+c & Difference \\\\\n",
      "\\hline\n",
      "GAT 2 & 2 & 256 & 0.8772 & 0.8565 & \\color{ForestGreen}+0.02070\\\\\n",
      "GAT 2 & 4 & 256 & 0.8574 & 0.8697 & \\color{BrickRed}-0.01230\\\\\n",
      "GAT 4 & 2 & 256 & 0.8778 & 0.8613 & \\color{ForestGreen}+0.01650\\\\\n",
      "GAT 4 & 4 & 256 & 0.872 & 0.8659 & \\color{ForestGreen}+0.00610\\\\\n",
      "GAT 8 & 2 & 256 & 0.8794 & 0.8655 & \\color{ForestGreen}+0.01390\\\\\n",
      "GAT 8 & 4 & 256 & 0.8742 & 0.8603 & \\color{ForestGreen}+0.01390\\\\\n",
      "SAGE & 4 & 256 & 0.8922 & 0.8763 & \\color{ForestGreen}+0.01590\\\\\n",
      "SAGE & 8 & 256 & 0.8887 & 0.8795 & \\color{ForestGreen}+0.00920\\\\\n",
      "\\hline\n"
     ]
    }
   ],
   "source": [
    "title = [\"Model\", \"Num. layers\", \"hidden size\", \"ll\", \"4ll\", \"Difference\"]\n",
    "models = [\"GAT 2\", \"GAT 2\", \"GAT 4\", \"GAT 4\", \"GAT 8\", \"GAT 8\", \"SAGE\", \"SAGE\"]\n",
    "n_layers = [2, 4, 2, 4, 2, 4, 4, 8]\n",
    "hidden_size = [256, 256, 256, 256, 256, 256, 256, 256]\n",
    "data_1 = [0.8734, 0.8602, 0.8798, 0.8785, 0.8784, 0.8786, 0.8903, 0.8874]\n",
    "data_2 = [0.8527, 0.8518, 0.8594, 0.8700, 0.8711, 0.7900, 0.8773, 0.8806]\n",
    "\n",
    "\n",
    "print(\"\\\\hline\")\n",
    "print(\" & \".join(title) + \" \\\\\\\\\")\n",
    "print(\"\\\\hline\")\n",
    "for idx, model in enumerate(models):\n",
    "    color = \"\\\\color{ForestGreen}+\" if data_1[idx] > data_2[idx] else \"\\\\color{BrickRed}\" if data_1[idx] < data_2[idx] else \"\"\n",
    "    print(f\"{model} & {n_layers[idx]} & {hidden_size[idx]} & {data_1[idx]} & {data_2[idx]} & {color}{(data_1[idx] - data_2[idx]):.5f}\\\\\\\\\")\n",
    "print(\"\\\\hline\")\n",
    "\n",
    "title = [\"Model\", \"Num. layers\", \"hidden size\", \"ll+c\", \"4ll+c\", \"Difference\"]\n",
    "models = [\"GAT 2\", \"GAT 2\", \"GAT 4\", \"GAT 4\", \"GAT 8\", \"GAT 8\", \"SAGE\", \"SAGE\"]\n",
    "n_layers = [2, 4, 2, 4, 2, 4, 4, 8]\n",
    "hidden_size = [256, 256, 256, 256, 256, 256, 256, 256]\n",
    "data_1 = [0.8772, 0.8574, 0.8778, 0.8720, 0.8794, 0.8742, 0.8922, 0.8887]\n",
    "data_2 = [0.8565, 0.8697, 0.8613, 0.8659, 0.8655, 0.8603, 0.8763, 0.8795]\n",
    "\n",
    "\n",
    "print(\"\\\\hline\")\n",
    "print(\" & \".join(title) + \" \\\\\\\\\")\n",
    "print(\"\\\\hline\")\n",
    "for idx, model in enumerate(models):\n",
    "    color = \"\\\\color{ForestGreen}+\" if data_1[idx] > data_2[idx] else \"\\\\color{BrickRed}\" if data_1[idx] < data_2[idx] else \"\"\n",
    "    print(f\"{model} & {n_layers[idx]} & {hidden_size[idx]} & {data_1[idx]} & {data_2[idx]} & {color}{(data_1[idx] - data_2[idx]):.5f}\\\\\\\\\")\n",
    "print(\"\\\\hline\")"
   ]
  },
  {
   "cell_type": "markdown",
   "metadata": {},
   "source": [
    "\\bigskip\n",
    "\\begin{center}\n",
    "\\begin{tabular}{|c c c c|} \n",
    "\n",
    "\\end{tabular}\n",
    "\\end{center}\n",
    "\\bigskip"
   ]
  },
  {
   "cell_type": "code",
   "execution_count": null,
   "metadata": {},
   "outputs": [],
   "source": []
  },
  {
   "cell_type": "markdown",
   "metadata": {},
   "source": [
    "## Create latex include graphics strings"
   ]
  },
  {
   "cell_type": "code",
   "execution_count": 4,
   "metadata": {},
   "outputs": [
    {
     "name": "stdout",
     "output_type": "stream",
     "text": [
      "\\includegraphics[width=0.49\\linewidth]{img/c_graph_GCN.png}\n",
      "\\includegraphics[width=0.49\\linewidth]{img/c_graph_gat_1.png}\n",
      "\\includegraphics[width=0.49\\linewidth]{img/c_graph_gat_2.png}\n",
      "\\includegraphics[width=0.49\\linewidth]{img/c_graph_gat_4.png}\n",
      "\\includegraphics[width=0.49\\linewidth]{img/c_graph_gat_8.png}\n",
      "\\includegraphics[width=0.49\\linewidth]{img/c_graph_gat_acc_1.png}\n",
      "\\includegraphics[width=0.49\\linewidth]{img/c_graph_gat_acc_2.png}\n",
      "\\includegraphics[width=0.49\\linewidth]{img/c_graph_gat_acc_4.png}\n",
      "\\includegraphics[width=0.49\\linewidth]{img/c_graph_gat_acc_8.png}\n",
      "\\includegraphics[width=0.49\\linewidth]{img/c_graph_gat_acc_marco_1.png}\n",
      "\\includegraphics[width=0.49\\linewidth]{img/c_graph_gat_acc_marco_2.png}\n",
      "\\includegraphics[width=0.49\\linewidth]{img/c_graph_gat_acc_marco_4.png}\n",
      "\\includegraphics[width=0.49\\linewidth]{img/c_graph_gat_acc_marco_8.png}\n",
      "\\includegraphics[width=0.49\\linewidth]{img/c_graph_gat_final_8.png}\n",
      "\\includegraphics[width=0.49\\linewidth]{img/c_graph_gat_loss_1.png}\n",
      "\\includegraphics[width=0.49\\linewidth]{img/c_graph_gat_loss_2.png}\n",
      "\\includegraphics[width=0.49\\linewidth]{img/c_graph_gat_loss_4.png}\n",
      "\\includegraphics[width=0.49\\linewidth]{img/c_graph_gat_loss_8.png}\n",
      "\\includegraphics[width=0.49\\linewidth]{img/c_graph_gcn.png}\n",
      "\\includegraphics[width=0.49\\linewidth]{img/c_graph_gcn_acc.png}\n",
      "\\includegraphics[width=0.49\\linewidth]{img/c_graph_gcn_acc_macro.png}\n",
      "\\includegraphics[width=0.49\\linewidth]{img/c_graph_gcn_final.png}\n",
      "\\includegraphics[width=0.49\\linewidth]{img/c_graph_gcn_loss.png}\n",
      "\\includegraphics[width=0.49\\linewidth]{img/c_graph_gin.png}\n",
      "\\includegraphics[width=0.49\\linewidth]{img/c_graph_gin_acc.png}\n",
      "\\includegraphics[width=0.49\\linewidth]{img/c_graph_gin_acc_macro.png}\n",
      "\\includegraphics[width=0.49\\linewidth]{img/c_graph_gin_final.png}\n",
      "\\includegraphics[width=0.49\\linewidth]{img/c_graph_gin_loss.png}\n",
      "\\includegraphics[width=0.49\\linewidth]{img/c_graph_sage.png}\n",
      "\\includegraphics[width=0.49\\linewidth]{img/c_graph_sage_acc.png}\n",
      "\\includegraphics[width=0.49\\linewidth]{img/c_graph_sage_acc_macro.png}\n",
      "\\includegraphics[width=0.49\\linewidth]{img/c_graph_sage_final.png}\n",
      "\\includegraphics[width=0.49\\linewidth]{img/c_graph_sage_loss.png}\n"
     ]
    }
   ],
   "source": [
    "from pathlib import Path\n",
    "\n",
    "x_type= \"c\"\n",
    "\n",
    "path = f\"heatmap/{x_type}/\"\n",
    "imgs = list(Path(path).glob(\"*.png\"))\n",
    "# sort images by name\n",
    "imgs.sort(key=lambda x: str(x).split(\"/\")[-1])\n",
    "for img in imgs:\n",
    "    img = str(img).split(\"/\")[-1]\n",
    "    print(\"\\includegraphics[width=0.49\\linewidth]{img/\" + str(img) + \"}\")"
   ]
  }
 ],
 "metadata": {
  "kernelspec": {
   "display_name": "Python 3.10.6 64-bit",
   "language": "python",
   "name": "python3"
  },
  "language_info": {
   "codemirror_mode": {
    "name": "ipython",
    "version": 3
   },
   "file_extension": ".py",
   "mimetype": "text/x-python",
   "name": "python",
   "nbconvert_exporter": "python",
   "pygments_lexer": "ipython3",
   "version": "3.10.6"
  },
  "orig_nbformat": 4,
  "vscode": {
   "interpreter": {
    "hash": "916dbcbb3f70747c44a77c7bcd40155683ae19c65e1c03b4aa3499c5328201f1"
   }
  }
 },
 "nbformat": 4,
 "nbformat_minor": 2
}
