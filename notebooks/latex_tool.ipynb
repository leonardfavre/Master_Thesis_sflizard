{
 "cells": [
  {
   "cell_type": "markdown",
   "metadata": {},
   "source": [
    "# Latex Tools\n",
    "\n",
    "Helper to easily generate latex report part"
   ]
  },
  {
   "cell_type": "markdown",
   "metadata": {},
   "source": [
    "## Table comparison maker"
   ]
  },
  {
   "cell_type": "code",
   "execution_count": 11,
   "metadata": {},
   "outputs": [
    {
     "name": "stdout",
     "output_type": "stream",
     "text": [
      "\\hline\n",
      "Metric & Stardist & HoverNet & Difference \\\\\n",
      "\\hline\n",
      "F1 d & 0.84435 & 0.77918 & \\color{ForestGreen}+0.06517\\\\\n",
      "Acc type & 0.79569 & 0.88177 & \\color{BrickRed}-0.08608\\\\\n",
      "F1 Neutrophil & 0.11009 & 0.1874 & \\color{BrickRed}-0.07731\\\\\n",
      "F1 Epithelial & 0.66009 & 0.7624 & \\color{BrickRed}-0.10231\\\\\n",
      "F1 Lymphocyte & 0.63634 & 0.5424 & \\color{ForestGreen}+0.09394\\\\\n",
      "F1 Plasma & 0.33518 & 0.46905 & \\color{BrickRed}-0.13387\\\\\n",
      "F1 Eosinophil & 0.34509 & 0.33756 & \\color{ForestGreen}+0.00753\\\\\n",
      "F1 Connective tissue & 0.49849 & 0.54713 & \\color{BrickRed}-0.04864\\\\\n",
      "\\hline\n"
     ]
    }
   ],
   "source": [
    "title = [\"Metric\", \"Stardist\", \"HoverNet\", \"Difference\"]\n",
    "metrics = [\"F1 d\", \"Acc type\", \"F1 Neutrophil\", \"F1 Epithelial\", \"F1 Lymphocyte\", \"F1 Plasma\", \"F1 Eosinophil\", \"F1 Connective tissue\"]\n",
    "data_1 = [0.84435, 0.79569, 0.11009, 0.66009, 0.63634, 0.33518, 0.34509, 0.49849]\n",
    "data_2 = [0.77918, 0.88177, 0.18740, 0.76240, 0.54240, 0.46905, 0.33756, 0.54713]\n",
    "\n",
    "\n",
    "print(\"\\\\hline\")\n",
    "print(\" & \".join(title) + \" \\\\\\\\\")\n",
    "print(\"\\\\hline\")\n",
    "for idx, metric in enumerate(metrics):\n",
    "    color = \"\\\\color{ForestGreen}+\" if data_1[idx] > data_2[idx] else \"\\\\color{BrickRed}\" if data_1[idx] < data_2[idx] else \"\"\n",
    "    print(f\"{metric} & {data_1[idx]} & {data_2[idx]} & {color}{(data_1[idx] - data_2[idx]):.5f}\\\\\\\\\")\n",
    "print(\"\\\\hline\")"
   ]
  },
  {
   "cell_type": "code",
   "execution_count": null,
   "metadata": {},
   "outputs": [],
   "source": []
  }
 ],
 "metadata": {
  "kernelspec": {
   "display_name": "Python 3.10.6 64-bit",
   "language": "python",
   "name": "python3"
  },
  "language_info": {
   "codemirror_mode": {
    "name": "ipython",
    "version": 3
   },
   "file_extension": ".py",
   "mimetype": "text/x-python",
   "name": "python",
   "nbconvert_exporter": "python",
   "pygments_lexer": "ipython3",
   "version": "3.10.6"
  },
  "orig_nbformat": 4,
  "vscode": {
   "interpreter": {
    "hash": "916dbcbb3f70747c44a77c7bcd40155683ae19c65e1c03b4aa3499c5328201f1"
   }
  }
 },
 "nbformat": 4,
 "nbformat_minor": 2
}
