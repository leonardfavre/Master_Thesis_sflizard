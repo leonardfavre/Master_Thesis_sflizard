{
 "cells": [
  {
   "cell_type": "markdown",
   "id": "2e8e0f3a-eea1-4cf4-81e1-d9721276e5f3",
   "metadata": {},
   "source": [
    "# Dataset weights\n",
    "\n",
    "Notebook to get the weight of the different classes present in the dataset.\n",
    "\n",
    "This is computed only in the trainingset."
   ]
  },
  {
   "cell_type": "code",
   "execution_count": 2,
   "id": "b699a1a4-814f-4a43-ae2a-0b07cfb46c4a",
   "metadata": {},
   "outputs": [
    {
     "name": "stderr",
     "output_type": "stream",
     "text": [
      "warnings.py (30): You want to use `gym` which is not installed yet, install it with `pip install gym`.\n"
     ]
    }
   ],
   "source": [
    "from sflizard import LizardDataModule\n",
    "\n",
    "from tqdm import tqdm\n",
    "import torch"
   ]
  },
  {
   "cell_type": "code",
   "execution_count": 6,
   "id": "855f5368-57ca-44d8-aba8-a0e96194fead",
   "metadata": {},
   "outputs": [],
   "source": [
    "IMG_SIZE=540\n",
    "DATA_PATH=\"../data_shuffle_train.pkl\"\n",
    "TEST_DATA_PATH=\"../data_shuffle_test.pkl\"\n",
    "SEED=303\n",
    "BATCH_SIZE=4\n",
    "N_RAYS = 32\n",
    "\n",
    "ANNOTATION_TARGET = \"stardist_class\""
   ]
  },
  {
   "cell_type": "code",
   "execution_count": 7,
   "id": "112f85e6-8096-4f4b-99e4-0881765a4259",
   "metadata": {},
   "outputs": [
    {
     "name": "stdout",
     "output_type": "stream",
     "text": [
      "Training with 2323 examples\n"
     ]
    }
   ],
   "source": [
    "aditional_args={\"n_rays\":N_RAYS}\n",
    "\n",
    "# create the datamodule\n",
    "dm = LizardDataModule(\n",
    "    train_data_path=DATA_PATH,\n",
    "    test_data_path=TEST_DATA_PATH,\n",
    "    annotation_target=ANNOTATION_TARGET,\n",
    "    batch_size=BATCH_SIZE,\n",
    "    num_workers = 1,\n",
    "    input_size=IMG_SIZE,\n",
    "    seed=SEED,\n",
    "    aditional_args=aditional_args,\n",
    ")\n",
    "dm.setup()"
   ]
  },
  {
   "cell_type": "code",
   "execution_count": 8,
   "id": "dbd87b71-65ba-4f0f-9b20-2c003f1c18e1",
   "metadata": {},
   "outputs": [
    {
     "name": "stderr",
     "output_type": "stream",
     "text": [
      "100%|██████████| 581/581 [11:47<00:00,  1.22s/it]\n"
     ]
    }
   ],
   "source": [
    "classes_representation = {}\n",
    "for i in range(7):\n",
    "    classes_representation[i] = 0\n",
    "train_iter = iter(dm.train_dataloader())\n",
    "for b in tqdm(range(len(train_iter))):\n",
    "    image, obj_probabilities, distances, classes = next(train_iter)\n",
    "    for i in range(len(image)):\n",
    "        class_map = torch.flatten(classes[i].int())\n",
    "        occurences = torch.bincount(class_map)\n",
    "        for o in range(len(occurences)):\n",
    "            classes_representation[o] += occurences[o]"
   ]
  },
  {
   "cell_type": "code",
   "execution_count": 9,
   "id": "f4b41534-0d6a-4dc6-88c8-71c0c54229be",
   "metadata": {},
   "outputs": [
    {
     "name": "stdout",
     "output_type": "stream",
     "text": [
      "{0: tensor(572276694), 1: tensor(1003007), 2: tensor(64618826), 3: tensor(12706493), 4: tensor(4096427), 5: tensor(857558), 6: tensor(21827795)}\n"
     ]
    }
   ],
   "source": [
    "print(classes_representation)"
   ]
  },
  {
   "cell_type": "code",
   "execution_count": 10,
   "id": "fc09dddb-5101-4663-8941-e9fe629f1494",
   "metadata": {},
   "outputs": [
    {
     "name": "stdout",
     "output_type": "stream",
     "text": [
      "{0: 0.8448300055448379, 1: 0.0014807005391897215, 2: 0.09539427990034645, 3: 0.01875810541333253, 4: 0.006047397144438008, 5: 0.0012659797917526589, 6: 0.032223531666102735}\n"
     ]
    }
   ],
   "source": [
    "total = 0\n",
    "for c in classes_representation.keys():\n",
    "    classes_representation[c] = classes_representation[c].item()\n",
    "    total += classes_representation[c]\n",
    "for c in classes_representation.keys():\n",
    "    classes_representation[c] /= total\n",
    "print(classes_representation)"
   ]
  },
  {
   "cell_type": "code",
   "execution_count": 19,
   "id": "13ba2e3d-f5eb-4de5-9356-55c4d4393212",
   "metadata": {},
   "outputs": [
    {
     "name": "stdout",
     "output_type": "stream",
     "text": [
      "{0: 0.822068738042566, 1: 0.0015632805252265753, 2: 0.13668895606007572, 3: 0.01808995955003234, 4: 0.006081943184276731, 5: 0.0005239083549402539, 6: 0.014983214282882448}\n"
     ]
    }
   ],
   "source": [
    "print(classes_representation)"
   ]
  },
  {
   "cell_type": "code",
   "execution_count": null,
   "id": "6d779089-8d0f-438c-9c2e-8ee85bcd199b",
   "metadata": {},
   "outputs": [],
   "source": [
    "{0: 0.8435234983048621, 1: 0.0015844697497448515, 2: 0.09702835179125052, 3: 0.018770678077839286, 4: 0.005716505874930195, 5: 0.0011799091886332306, 6: 0.03219658701273987}"
   ]
  }
 ],
 "metadata": {
  "kernelspec": {
   "display_name": "Python 3.9.13 ('TM')",
   "language": "python",
   "name": "python3"
  },
  "language_info": {
   "codemirror_mode": {
    "name": "ipython",
    "version": 3
   },
   "file_extension": ".py",
   "mimetype": "text/x-python",
   "name": "python",
   "nbconvert_exporter": "python",
   "pygments_lexer": "ipython3",
   "version": "3.9.13"
  },
  "vscode": {
   "interpreter": {
    "hash": "c16ea8bd56afaa61abb0c90c58be18bc01b827a1a1f02bf5b8eb46947d35325e"
   }
  }
 },
 "nbformat": 4,
 "nbformat_minor": 5
}
