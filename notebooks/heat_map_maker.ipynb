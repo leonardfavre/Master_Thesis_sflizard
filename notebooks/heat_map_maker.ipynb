{
 "cells": [
  {
   "cell_type": "markdown",
   "metadata": {},
   "source": [
    "# Heat map tool\n",
    "\n",
    "## compute and save heatmaps"
   ]
  },
  {
   "cell_type": "code",
   "execution_count": 2,
   "metadata": {},
   "outputs": [],
   "source": [
    "import seaborn as sn\n",
    "import pandas as pd\n",
    "import numpy as np\n",
    "from tqdm import tqdm\n",
    "import yaml\n",
    "\n",
    "def print_hm(data, index, columns, vmin, vmax, title, selector=None):\n",
    "    if selector is not None:\n",
    "        data_split = []\n",
    "        for i in range(len(data[0][0])):\n",
    "            data_split.append([])\n",
    "            for j in range(len(data[0])):\n",
    "                data_split[i].append([])\n",
    "                for k in range(len(data)):\n",
    "                    data_split[i][j].append(data[k][j][i])\n",
    "        data = data_split[selector]\n",
    "\n",
    "    df = pd.DataFrame(data, index=index, columns=columns)\n",
    "    ax = sn.heatmap(df, annot=True, fmt=\".4f\", cmap=\"YlGnBu\", vmin=vmin, vmax=vmax, cbar=False)\n",
    "    ax.set_title(title)\n",
    "    ax.figsize=(5,10)\n",
    "    ax.set(xlabel=\"hidden size\", ylabel=\"num. layers\")\n",
    "    ax.figure.savefig(f\"heatmap/{title}.png\", dpi=300)\n",
    "    ax.figure.clf()"
   ]
  },
  {
   "cell_type": "code",
   "execution_count": 10,
   "metadata": {},
   "outputs": [
    {
     "name": "stdout",
     "output_type": "stream",
     "text": [
      "0.84739 0.8723008333333335 0.87224 0.89194\n"
     ]
    },
    {
     "name": "stderr",
     "output_type": "stream",
     "text": [
      "100%|██████████| 4/4 [00:01<00:00,  3.00it/s]\n"
     ]
    },
    {
     "data": {
      "text/plain": [
       "<Figure size 640x480 with 0 Axes>"
      ]
     },
     "metadata": {},
     "output_type": "display_data"
    }
   ],
   "source": [
    "# get data from yaml\n",
    "with open(\"heatmap_data.yaml\", \"r\") as f:\n",
    "    data = yaml.safe_load(f)\n",
    "\n",
    "columns = [\"256\", \"512\", \"1024\"] #[\"16\", \"32\", \"64\", \"128\", \"256\", \"512\", \"1024\"] # hidden_size \n",
    "index  = [\"1\", \"2\", \"4\"]#, \"8\", \"16\"]#, \"16\"] # n_layer\n",
    "models = [\"graph_gat\"]# [\"graph_GCN\", \"graph_gat\", \"graph_sage\", \"graph_gin\"]\n",
    "selector = 1 # 1: acc \n",
    "heads = [2, 4, 8]\n",
    "x_type = \"4ll+c\"\n",
    "raw=True\n",
    "\n",
    "data = (\n",
    "    data[\"data_cx\"] if x_type == \"c+x\" else\n",
    "    data[\"data_c\"] if x_type == \"c\" else\n",
    "    data[\"data_ll\"] if x_type == \"ll\" else\n",
    "    data[\"data_llc\"] if x_type == \"ll+c\" else\n",
    "    data[\"data_4ll\"] if x_type == \"4ll\" else\n",
    "    data[\"data_4llc\"] if x_type == \"4ll+c\" else\n",
    "    None\n",
    ")\n",
    "\n",
    "# get min max values\n",
    "all_values = []\n",
    "for test in data:\n",
    "    for hidden_size in data[test]:\n",
    "        for n_layer in hidden_size:\n",
    "            all_values.append(n_layer[selector])\n",
    "min = np.min(all_values)\n",
    "max = np.max(all_values)\n",
    "mean = np.mean(all_values)\n",
    "median = np.median(all_values)\n",
    "print(min, mean, median, max)\n",
    "min = 0.83807\n",
    "max = 0.89221\n",
    "\n",
    "# get max btwn checkpoints\n",
    "def get_max(model, head=None):\n",
    "    data_split = [[[] for _ in range(len(columns))] for _ in range(len(index))]\n",
    "    # populate\n",
    "    for test in data:\n",
    "        if (head is None and model in test) or (head is not None and model in test and str(head) in test):\n",
    "            for i in range(len(index)):\n",
    "                for c in range(len(columns)):\n",
    "                    try:\n",
    "                        data_split[i][c].append(data[test][c][i][selector])\n",
    "                    except IndexError:\n",
    "                        print(f\"Error: {model} {head} {index[i]} {columns[c]}\")\n",
    "    # get max\n",
    "    for i in range(len(index)):\n",
    "        for c in range(len(columns)):\n",
    "            try:\n",
    "                data_split[i][c] = np.max(data_split[i][c])\n",
    "            except ValueError:\n",
    "                data_split[i][c] = 0\n",
    "                print(f\"Error: {model} {head} {index[i]} {columns[c]}\")\n",
    "    return data_split\n",
    "\n",
    "if not raw:\n",
    "    for model in tqdm(models):\n",
    "        if model == \"graph_gat\":\n",
    "            for h in heads:\n",
    "                data_split = get_max(model, h)\n",
    "                print_hm(data_split, index, columns, min, max, f\"{x_type}_{model}_{h}\")\n",
    "        else:\n",
    "            data_split = get_max(model)\n",
    "            print_hm(data_split, index, columns, min, max, f\"{x_type}_{model}\")\n",
    "else:\n",
    "    for test in tqdm(data):\n",
    "        print_hm(data[test], index, columns, min, max, f\"{x_type}_{test}\", selector)"
   ]
  },
  {
   "cell_type": "markdown",
   "metadata": {},
   "source": [
    "## Create latex include graphics strings"
   ]
  },
  {
   "cell_type": "code",
   "execution_count": 17,
   "metadata": {},
   "outputs": [
    {
     "name": "stdout",
     "output_type": "stream",
     "text": [
      "\\includegraphics[width=0.49\\linewidth]{img/4ll_graph_gat_2.png}\n",
      "\\includegraphics[width=0.49\\linewidth]{img/4ll_graph_gat_4.png}\n",
      "\\includegraphics[width=0.49\\linewidth]{img/4ll_graph_gat_8.png}\n",
      "\\includegraphics[width=0.49\\linewidth]{img/4ll_graph_gat_acc_2.png}\n",
      "\\includegraphics[width=0.49\\linewidth]{img/4ll_graph_gat_acc_4.png}\n",
      "\\includegraphics[width=0.49\\linewidth]{img/4ll_graph_gat_acc_8.png}\n",
      "\\includegraphics[width=0.49\\linewidth]{img/4ll_graph_gat_acc_macro_2.png}\n",
      "\\includegraphics[width=0.49\\linewidth]{img/4ll_graph_gat_acc_macro_4.png}\n",
      "\\includegraphics[width=0.49\\linewidth]{img/4ll_graph_gat_acc_macro_8.png}\n",
      "\\includegraphics[width=0.49\\linewidth]{img/4ll_graph_gat_final_2.png}\n",
      "\\includegraphics[width=0.49\\linewidth]{img/4ll_graph_gat_final_4.png}\n",
      "\\includegraphics[width=0.49\\linewidth]{img/4ll_graph_gat_final_8.png}\n",
      "\\includegraphics[width=0.49\\linewidth]{img/4ll_graph_gat_loss_2.png}\n",
      "\\includegraphics[width=0.49\\linewidth]{img/4ll_graph_gat_loss_4.png}\n",
      "\\includegraphics[width=0.49\\linewidth]{img/4ll_graph_gat_loss_8.png}\n"
     ]
    }
   ],
   "source": [
    "from pathlib import Path\n",
    "\n",
    "x_type= \"c\"\n",
    "\n",
    "path = f\"heatmap/{x_type}/\"\n",
    "imgs = list(Path(path).glob(\"*.png\"))\n",
    "# sort images by name\n",
    "imgs.sort(key=lambda x: str(x).split(\"/\")[-1])\n",
    "for img in imgs:\n",
    "    img = str(img).split(\"/\")[-1]\n",
    "    print(\"\\includegraphics[width=0.49\\linewidth]{img/\" + str(img) + \"}\")"
   ]
  },
  {
   "cell_type": "markdown",
   "metadata": {},
   "source": [
    "Notes:\n",
    "\n",
    "\n",
    "c : 0.03262 0.7221019200000001 0.72215 0.85057\n",
    "c+x : 0.00483 0.5954636 0.7085 0.84653\n",
    "ll :  0.00483 0.7336465066666666 0.75733 0.88059\n",
    "ll+c : 0.0 0.7418553333333333 0.76517 0.87952\n",
    "\n",
    "4ll gat: 0.82747 0.8683833333333333 0.86859 0.88624\n",
    "4ll sage: 0.84739 0.8723008333333335 0.87224 0.89194\n",
    "4ll+c gat: 0.75527 0.8671287962962965 0.867685 0.88871\n",
    "4ll+c sage: 0.84143 0.8723305555555556 0.87232 0.89221\n",
    "\n",
    "\\texttt{compute\\_stats.py}"
   ]
  }
 ],
 "metadata": {
  "kernelspec": {
   "display_name": "Python 3.9.13 ('TM')",
   "language": "python",
   "name": "python3"
  },
  "language_info": {
   "codemirror_mode": {
    "name": "ipython",
    "version": 3
   },
   "file_extension": ".py",
   "mimetype": "text/x-python",
   "name": "python",
   "nbconvert_exporter": "python",
   "pygments_lexer": "ipython3",
   "version": "3.9.13"
  },
  "orig_nbformat": 4,
  "vscode": {
   "interpreter": {
    "hash": "c16ea8bd56afaa61abb0c90c58be18bc01b827a1a1f02bf5b8eb46947d35325e"
   }
  }
 },
 "nbformat": 4,
 "nbformat_minor": 2
}
